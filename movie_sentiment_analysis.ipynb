{
 "cells": [
  {
   "cell_type": "markdown",
   "metadata": {
    "collapsed": false,
    "jupyter": {
     "outputs_hidden": false
    }
   },
   "source": [
    "# Text Translation and Sentiment Analysis using Transformers"
   ]
  },
  {
   "cell_type": "markdown",
   "metadata": {
    "collapsed": false,
    "jupyter": {
     "outputs_hidden": false
    }
   },
   "source": [
    "## Project Overview:\n",
    "\n",
    "The objective of this project is to analyze the sentiment of movie reviews in three different languages - English, French, and Spanish. We have been given 30 movies, 10 in each language, along with their reviews and synopses in separate CSV files named `movie_reviews_eng.csv`, `movie_reviews_fr.csv`, and `movie_reviews_sp.csv`.\n",
    "\n",
    "- The first step of this project is to convert the French and Spanish reviews and synopses into English. This will allow us to analyze the sentiment of all reviews in the same language. We will be using pre-trained transformers from HuggingFace to achieve this task.\n",
    "\n",
    "- Once the translations are complete, we will create a single dataframe that contains all the movies along with their reviews, synopses, and year of release in all three languages. This dataframe will be used to perform sentiment analysis on the reviews of each movie.\n",
    "\n",
    "- Finally, we will use pretrained transformers from HuggingFace to analyze the sentiment of each review. The sentiment analysis results will be added to the dataframe. The final dataframe will have 30 rows\n",
    "\n",
    "\n",
    "The output of the project will be a CSV file with a header row that includes column names such as **Title**, **Year**, **Synopsis**, **Review**, **Review Sentiment**, and **Original Language**. The **Original Language** column will indicate the language of the review and synopsis (*en/fr/sp*) before translation. The dataframe will consist of 30 rows, with each row corresponding to a movie."
   ]
  },
  {
   "cell_type": "code",
   "metadata": {
    "ExecuteTime": {
     "end_time": "2024-10-28T08:35:36.669812Z",
     "start_time": "2024-10-28T08:35:36.665487Z"
    }
   },
   "source": [
    "# testing the conda environment, this is not related to the project\n",
    "import sys\n",
    "print(sys.executable)  "
   ],
   "outputs": [
    {
     "name": "stdout",
     "output_type": "stream",
     "text": [
      "/opt/miniconda3/envs/rnn/bin/python\n"
     ]
    }
   ],
   "execution_count": 1
  },
  {
   "cell_type": "code",
   "metadata": {
    "collapsed": false,
    "jupyter": {
     "outputs_hidden": false
    },
    "ExecuteTime": {
     "end_time": "2024-10-28T08:35:39.509736Z",
     "start_time": "2024-10-28T08:35:37.536749Z"
    }
   },
   "source": [
    "# imports\n",
    "import pandas as pd\n",
    "from transformers import pipeline"
   ],
   "outputs": [],
   "execution_count": 2
  },
  {
   "cell_type": "markdown",
   "metadata": {
    "collapsed": false,
    "jupyter": {
     "outputs_hidden": false
    }
   },
   "source": [
    "### Get data from `.csv` files and then preprocess data"
   ]
  },
  {
   "cell_type": "code",
   "metadata": {
    "collapsed": false,
    "jupyter": {
     "outputs_hidden": false
    },
    "ExecuteTime": {
     "end_time": "2024-10-28T08:39:33.626566Z",
     "start_time": "2024-10-28T08:39:33.621008Z"
    }
   },
   "source": [
    "def preprocess_data() -> pd.DataFrame:\n",
    "    \"\"\"\n",
    "    Reads movie data from .csv files with consistent column names and concatenates them \n",
    "    into one resultant dataframe with 'Original Language' column added.\n",
    "    \"\"\"\n",
    "    # Read CSV files with consistent column names\n",
    "    column_names = ['Title', 'Year', 'Synopsis', 'Review']\n",
    "    \n",
    "    df_eng = pd.read_csv(\"data/movie_reviews_en.csv\", names=column_names, header=0)\n",
    "    df_fr = pd.read_csv(\"data/movie_reviews_fr.csv\", names=column_names, header=0)\n",
    "    df_sp = pd.read_csv(\"data/movie_reviews_sp.csv\", names=column_names, header=0)\n",
    "    \n",
    "    df_eng['Original Language'] = 'en'\n",
    "    df_fr['Original Language'] = 'fr'\n",
    "    df_sp['Original Language'] = 'sp'\n",
    "    \n",
    "    df_combined = pd.concat([df_eng, df_fr, df_sp], ignore_index=True)\n",
    "    \n",
    "    return df_combined\n",
    "\n",
    "df = preprocess_data()"
   ],
   "outputs": [],
   "execution_count": 11
  },
  {
   "cell_type": "code",
   "metadata": {
    "collapsed": false,
    "jupyter": {
     "outputs_hidden": false
    },
    "ExecuteTime": {
     "end_time": "2024-10-28T08:40:01.967369Z",
     "start_time": "2024-10-28T08:40:01.959591Z"
    }
   },
   "source": [
    "df.sample(10)"
   ],
   "outputs": [
    {
     "data": {
      "text/plain": [
       "                             Title  Year  \\\n",
       "0        The Shawshank Redemption   1994   \n",
       "29                    El Incidente  2014   \n",
       "8          Solo: A Star Wars Story  2018   \n",
       "1                 The Dark Knight   2008   \n",
       "4                        Inception  2010   \n",
       "18       Les Visiteurs en Amérique  2000   \n",
       "20                            Roma  2018   \n",
       "16  La Tour Montparnasse Infernale  2001   \n",
       "2                     Forrest Gump  1994   \n",
       "12                          Amélie  2001   \n",
       "\n",
       "                                             Synopsis  \\\n",
       "0   Andy Dufresne (Tim Robbins), a successful bank...   \n",
       "29  En esta película de terror mexicana, un grupo ...   \n",
       "8   A young Han Solo (Alden Ehrenreich) joins a gr...   \n",
       "1   Batman (Christian Bale) teams up with District...   \n",
       "4   Dom Cobb (Leonardo DiCaprio) is a skilled thie...   \n",
       "18  Dans cette suite de la comédie française Les V...   \n",
       "20  Cleo (Yalitza Aparicio) es una joven empleada ...   \n",
       "16  Deux employés de bureau incompétents se retrou...   \n",
       "2   Forrest Gump (Tom Hanks) is a simple man with ...   \n",
       "12  Cette comédie romantique raconte l'histoire d'...   \n",
       "\n",
       "                                               Review Original Language  \n",
       "0   \"The Shawshank Redemption is an inspiring tale...                en  \n",
       "29  \"El Incidente es una película aburrida y sin s...                sp  \n",
       "8   \"Dull and pointless, with none of the magic of...                en  \n",
       "1   \"The Dark Knight is a thrilling and intense su...                en  \n",
       "4   \"Inception is a mind-bending and visually stun...                en  \n",
       "18  \"Le film est une perte de temps totale. Les bl...                fr  \n",
       "20  \"Roma es una película hermosa y conmovedora qu...                sp  \n",
       "16  \"Je ne peux pas croire que j'ai perdu du temps...                fr  \n",
       "2   \"Forrest Gump is a heartwarming and inspiratio...                en  \n",
       "12  \"Amélie est un film absolument charmant qui vo...                fr  "
      ],
      "text/html": [
       "<div>\n",
       "<style scoped>\n",
       "    .dataframe tbody tr th:only-of-type {\n",
       "        vertical-align: middle;\n",
       "    }\n",
       "\n",
       "    .dataframe tbody tr th {\n",
       "        vertical-align: top;\n",
       "    }\n",
       "\n",
       "    .dataframe thead th {\n",
       "        text-align: right;\n",
       "    }\n",
       "</style>\n",
       "<table border=\"1\" class=\"dataframe\">\n",
       "  <thead>\n",
       "    <tr style=\"text-align: right;\">\n",
       "      <th></th>\n",
       "      <th>Title</th>\n",
       "      <th>Year</th>\n",
       "      <th>Synopsis</th>\n",
       "      <th>Review</th>\n",
       "      <th>Original Language</th>\n",
       "    </tr>\n",
       "  </thead>\n",
       "  <tbody>\n",
       "    <tr>\n",
       "      <th>0</th>\n",
       "      <td>The Shawshank Redemption</td>\n",
       "      <td>1994</td>\n",
       "      <td>Andy Dufresne (Tim Robbins), a successful bank...</td>\n",
       "      <td>\"The Shawshank Redemption is an inspiring tale...</td>\n",
       "      <td>en</td>\n",
       "    </tr>\n",
       "    <tr>\n",
       "      <th>29</th>\n",
       "      <td>El Incidente</td>\n",
       "      <td>2014</td>\n",
       "      <td>En esta película de terror mexicana, un grupo ...</td>\n",
       "      <td>\"El Incidente es una película aburrida y sin s...</td>\n",
       "      <td>sp</td>\n",
       "    </tr>\n",
       "    <tr>\n",
       "      <th>8</th>\n",
       "      <td>Solo: A Star Wars Story</td>\n",
       "      <td>2018</td>\n",
       "      <td>A young Han Solo (Alden Ehrenreich) joins a gr...</td>\n",
       "      <td>\"Dull and pointless, with none of the magic of...</td>\n",
       "      <td>en</td>\n",
       "    </tr>\n",
       "    <tr>\n",
       "      <th>1</th>\n",
       "      <td>The Dark Knight</td>\n",
       "      <td>2008</td>\n",
       "      <td>Batman (Christian Bale) teams up with District...</td>\n",
       "      <td>\"The Dark Knight is a thrilling and intense su...</td>\n",
       "      <td>en</td>\n",
       "    </tr>\n",
       "    <tr>\n",
       "      <th>4</th>\n",
       "      <td>Inception</td>\n",
       "      <td>2010</td>\n",
       "      <td>Dom Cobb (Leonardo DiCaprio) is a skilled thie...</td>\n",
       "      <td>\"Inception is a mind-bending and visually stun...</td>\n",
       "      <td>en</td>\n",
       "    </tr>\n",
       "    <tr>\n",
       "      <th>18</th>\n",
       "      <td>Les Visiteurs en Amérique</td>\n",
       "      <td>2000</td>\n",
       "      <td>Dans cette suite de la comédie française Les V...</td>\n",
       "      <td>\"Le film est une perte de temps totale. Les bl...</td>\n",
       "      <td>fr</td>\n",
       "    </tr>\n",
       "    <tr>\n",
       "      <th>20</th>\n",
       "      <td>Roma</td>\n",
       "      <td>2018</td>\n",
       "      <td>Cleo (Yalitza Aparicio) es una joven empleada ...</td>\n",
       "      <td>\"Roma es una película hermosa y conmovedora qu...</td>\n",
       "      <td>sp</td>\n",
       "    </tr>\n",
       "    <tr>\n",
       "      <th>16</th>\n",
       "      <td>La Tour Montparnasse Infernale</td>\n",
       "      <td>2001</td>\n",
       "      <td>Deux employés de bureau incompétents se retrou...</td>\n",
       "      <td>\"Je ne peux pas croire que j'ai perdu du temps...</td>\n",
       "      <td>fr</td>\n",
       "    </tr>\n",
       "    <tr>\n",
       "      <th>2</th>\n",
       "      <td>Forrest Gump</td>\n",
       "      <td>1994</td>\n",
       "      <td>Forrest Gump (Tom Hanks) is a simple man with ...</td>\n",
       "      <td>\"Forrest Gump is a heartwarming and inspiratio...</td>\n",
       "      <td>en</td>\n",
       "    </tr>\n",
       "    <tr>\n",
       "      <th>12</th>\n",
       "      <td>Amélie</td>\n",
       "      <td>2001</td>\n",
       "      <td>Cette comédie romantique raconte l'histoire d'...</td>\n",
       "      <td>\"Amélie est un film absolument charmant qui vo...</td>\n",
       "      <td>fr</td>\n",
       "    </tr>\n",
       "  </tbody>\n",
       "</table>\n",
       "</div>"
      ]
     },
     "execution_count": 12,
     "metadata": {},
     "output_type": "execute_result"
    }
   ],
   "execution_count": 12
  },
  {
   "cell_type": "markdown",
   "metadata": {
    "collapsed": false,
    "jupyter": {
     "outputs_hidden": false
    }
   },
   "source": [
    "### Text translation\n",
    "\n",
    "Translate the **Review** and **Synopsis** column values to English."
   ]
  },
  {
   "cell_type": "code",
   "metadata": {
    "collapsed": false,
    "jupyter": {
     "outputs_hidden": false
    },
    "ExecuteTime": {
     "end_time": "2024-10-28T08:40:42.888165Z",
     "start_time": "2024-10-28T08:40:18.135928Z"
    }
   },
   "source": [
    "from transformers import MarianMTModel, MarianTokenizer\n",
    "\n",
    "fr_en_model_name = \"Helsinki-NLP/opus-mt-fr-en\"\n",
    "es_en_model_name = \"Helsinki-NLP/opus-mt-es-en\"\n",
    "\n",
    "fr_en_model = MarianMTModel.from_pretrained(fr_en_model_name)\n",
    "es_en_model = MarianMTModel.from_pretrained(es_en_model_name)\n",
    "\n",
    "fr_en_tokenizer = MarianTokenizer.from_pretrained(fr_en_model_name)\n",
    "es_en_tokenizer = MarianTokenizer.from_pretrained(es_en_model_name)\n",
    "\n",
    "def translate(text: str, model, tokenizer) -> str:\n",
    "    \"\"\"\n",
    "    Function to translate text using a model and tokenizer\n",
    "    \n",
    "    Parameters:\n",
    "        text (str): Single text string to translate\n",
    "        model: The translation model\n",
    "        tokenizer: The tokenizer for the model\n",
    "    Returns:\n",
    "        str: Translated text\n",
    "    \"\"\"\n",
    "    if not isinstance(text, str):\n",
    "        text = str(text)\n",
    "        \n",
    "    inputs = tokenizer(text, return_tensors=\"pt\", padding=True, truncation=True, max_length=512)\n",
    "    outputs = model.generate(**inputs)\n",
    "    translated = tokenizer.decode(outputs[0], skip_special_tokens=True)\n",
    "    \n",
    "    return translated\n"
   ],
   "outputs": [
    {
     "name": "stderr",
     "output_type": "stream",
     "text": [
      "/opt/miniconda3/envs/rnn/lib/python3.10/site-packages/transformers/models/marian/tokenization_marian.py:175: UserWarning: Recommended: pip install sacremoses.\n",
      "  warnings.warn(\"Recommended: pip install sacremoses.\")\n"
     ]
    }
   ],
   "execution_count": 13
  },
  {
   "cell_type": "code",
   "metadata": {
    "collapsed": false,
    "jupyter": {
     "outputs_hidden": false
    },
    "ExecuteTime": {
     "end_time": "2024-10-28T08:41:24.354453Z",
     "start_time": "2024-10-28T08:40:47.137840Z"
    }
   },
   "source": [
    "fr_mask = df['Original Language'] == 'fr'\n",
    "sp_mask = df['Original Language'] == 'sp'\n",
    "\n",
    "#  previous version that I have changed \n",
    "'''\n",
    "for idx in df[fr_mask].index:\n",
    "    df.at[idx, 'Review'] = translate(df.at[idx, 'Review'], fr_en_model, fr_en_tokenizer)\n",
    "    df.at[idx, 'Synopsis'] = translate(df.at[idx, 'Synopsis'], fr_en_model, fr_en_tokenizer)\n",
    "\n",
    "for idx in df[sp_mask].index:\n",
    "    # Translate review\n",
    "    df.at[idx, 'Review'] = translate(df.at[idx, 'Review'], es_en_model, es_en_tokenizer)\n",
    "    # Translate synopsis\n",
    "    df.at[idx, 'Synopsis'] = translate(df.at[idx, 'Synopsis'], es_en_model, es_en_tokenizer)\n",
    "'''\n",
    "\n",
    "translation_configs = {\n",
    "    'fr': (fr_mask, fr_en_model, fr_en_tokenizer),\n",
    "    'sp': (sp_mask, es_en_model, es_en_tokenizer)\n",
    "}\n",
    "\n",
    "for lang, (mask, model, tokenizer) in translation_configs.items():\n",
    "    for col in ['Review', 'Synopsis']:\n",
    "        df.loc[mask, col] = df.loc[mask, col].apply(\n",
    "            lambda x: translate(x, model, tokenizer)\n",
    "        )"
   ],
   "outputs": [],
   "execution_count": 14
  },
  {
   "cell_type": "code",
   "metadata": {
    "collapsed": false,
    "jupyter": {
     "outputs_hidden": false
    },
    "ExecuteTime": {
     "end_time": "2024-10-28T08:41:48.961210Z",
     "start_time": "2024-10-28T08:41:48.953551Z"
    }
   },
   "source": "df.sample(10)",
   "outputs": [
    {
     "data": {
      "text/plain": [
       "                Title         Year  \\\n",
       "21   La Casa de Papel  (2017-2021)   \n",
       "11       Intouchables         2011   \n",
       "20               Roma         2018   \n",
       "15   Le Dîner de Cons         1998   \n",
       "13      Les Choristes         2004   \n",
       "2        Forrest Gump         1994   \n",
       "5   Blade Runner 2049         2017   \n",
       "24      Amores perros         2000   \n",
       "3      The Godfather          1972   \n",
       "22  Y tu mamá también         2001   \n",
       "\n",
       "                                             Synopsis  \\\n",
       "21  This Spanish television series follows a group...   \n",
       "11  This film tells the story of the unlikely frie...   \n",
       "20  Cleo (Yalitza Aparicio) is a young domestic wo...   \n",
       "15  The film follows the story of a group of rich ...   \n",
       "13  This film tells the story of a music teacher w...   \n",
       "2   Forrest Gump (Tom Hanks) is a simple man with ...   \n",
       "5   Officer K (Ryan Gosling), a new blade runner f...   \n",
       "24  Three stories intertwine in this Mexican film:...   \n",
       "3   Don Vito Corleone (Marlon Brando) is the head ...   \n",
       "22  Two teenage friends (Gael García Bernal and Di...   \n",
       "\n",
       "                                               Review Original Language  \n",
       "21  \"The Paper House is an exciting and addictive ...                sp  \n",
       "11  \"Untouchables is an incredibly touching film w...                fr  \n",
       "20  \"Rome is a beautiful and moving film that pays...                sp  \n",
       "15  \"I didn't like this movie at all. The concept ...                fr  \n",
       "13  \"The Choristes are a beautiful film that will ...                fr  \n",
       "2   \"Forrest Gump is a heartwarming and inspiratio...                en  \n",
       "5   \"Boring and too long. Nothing like the origina...                en  \n",
       "24  \"Amores dogs is an intense and moving film tha...                sp  \n",
       "3   \"The Godfather is a classic movie that stands ...                en  \n",
       "22  \"And your mom is also a movie that stays with ...                sp  "
      ],
      "text/html": [
       "<div>\n",
       "<style scoped>\n",
       "    .dataframe tbody tr th:only-of-type {\n",
       "        vertical-align: middle;\n",
       "    }\n",
       "\n",
       "    .dataframe tbody tr th {\n",
       "        vertical-align: top;\n",
       "    }\n",
       "\n",
       "    .dataframe thead th {\n",
       "        text-align: right;\n",
       "    }\n",
       "</style>\n",
       "<table border=\"1\" class=\"dataframe\">\n",
       "  <thead>\n",
       "    <tr style=\"text-align: right;\">\n",
       "      <th></th>\n",
       "      <th>Title</th>\n",
       "      <th>Year</th>\n",
       "      <th>Synopsis</th>\n",
       "      <th>Review</th>\n",
       "      <th>Original Language</th>\n",
       "    </tr>\n",
       "  </thead>\n",
       "  <tbody>\n",
       "    <tr>\n",
       "      <th>21</th>\n",
       "      <td>La Casa de Papel</td>\n",
       "      <td>(2017-2021)</td>\n",
       "      <td>This Spanish television series follows a group...</td>\n",
       "      <td>\"The Paper House is an exciting and addictive ...</td>\n",
       "      <td>sp</td>\n",
       "    </tr>\n",
       "    <tr>\n",
       "      <th>11</th>\n",
       "      <td>Intouchables</td>\n",
       "      <td>2011</td>\n",
       "      <td>This film tells the story of the unlikely frie...</td>\n",
       "      <td>\"Untouchables is an incredibly touching film w...</td>\n",
       "      <td>fr</td>\n",
       "    </tr>\n",
       "    <tr>\n",
       "      <th>20</th>\n",
       "      <td>Roma</td>\n",
       "      <td>2018</td>\n",
       "      <td>Cleo (Yalitza Aparicio) is a young domestic wo...</td>\n",
       "      <td>\"Rome is a beautiful and moving film that pays...</td>\n",
       "      <td>sp</td>\n",
       "    </tr>\n",
       "    <tr>\n",
       "      <th>15</th>\n",
       "      <td>Le Dîner de Cons</td>\n",
       "      <td>1998</td>\n",
       "      <td>The film follows the story of a group of rich ...</td>\n",
       "      <td>\"I didn't like this movie at all. The concept ...</td>\n",
       "      <td>fr</td>\n",
       "    </tr>\n",
       "    <tr>\n",
       "      <th>13</th>\n",
       "      <td>Les Choristes</td>\n",
       "      <td>2004</td>\n",
       "      <td>This film tells the story of a music teacher w...</td>\n",
       "      <td>\"The Choristes are a beautiful film that will ...</td>\n",
       "      <td>fr</td>\n",
       "    </tr>\n",
       "    <tr>\n",
       "      <th>2</th>\n",
       "      <td>Forrest Gump</td>\n",
       "      <td>1994</td>\n",
       "      <td>Forrest Gump (Tom Hanks) is a simple man with ...</td>\n",
       "      <td>\"Forrest Gump is a heartwarming and inspiratio...</td>\n",
       "      <td>en</td>\n",
       "    </tr>\n",
       "    <tr>\n",
       "      <th>5</th>\n",
       "      <td>Blade Runner 2049</td>\n",
       "      <td>2017</td>\n",
       "      <td>Officer K (Ryan Gosling), a new blade runner f...</td>\n",
       "      <td>\"Boring and too long. Nothing like the origina...</td>\n",
       "      <td>en</td>\n",
       "    </tr>\n",
       "    <tr>\n",
       "      <th>24</th>\n",
       "      <td>Amores perros</td>\n",
       "      <td>2000</td>\n",
       "      <td>Three stories intertwine in this Mexican film:...</td>\n",
       "      <td>\"Amores dogs is an intense and moving film tha...</td>\n",
       "      <td>sp</td>\n",
       "    </tr>\n",
       "    <tr>\n",
       "      <th>3</th>\n",
       "      <td>The Godfather</td>\n",
       "      <td>1972</td>\n",
       "      <td>Don Vito Corleone (Marlon Brando) is the head ...</td>\n",
       "      <td>\"The Godfather is a classic movie that stands ...</td>\n",
       "      <td>en</td>\n",
       "    </tr>\n",
       "    <tr>\n",
       "      <th>22</th>\n",
       "      <td>Y tu mamá también</td>\n",
       "      <td>2001</td>\n",
       "      <td>Two teenage friends (Gael García Bernal and Di...</td>\n",
       "      <td>\"And your mom is also a movie that stays with ...</td>\n",
       "      <td>sp</td>\n",
       "    </tr>\n",
       "  </tbody>\n",
       "</table>\n",
       "</div>"
      ]
     },
     "execution_count": 15,
     "metadata": {},
     "output_type": "execute_result"
    }
   ],
   "execution_count": 15
  },
  {
   "cell_type": "markdown",
   "metadata": {
    "collapsed": false,
    "jupyter": {
     "outputs_hidden": false
    }
   },
   "source": [
    "### Sentiment Analysis\n",
    "\n",
    "Use HuggingFace pretrained model for sentiment analysis of the reviews. Store the sentiment result **Positive** or **Negative** in a new column titled **Sentiment** in the dataframe."
   ]
  },
  {
   "cell_type": "code",
   "metadata": {
    "collapsed": false,
    "jupyter": {
     "outputs_hidden": false
    },
    "ExecuteTime": {
     "end_time": "2024-10-28T08:41:59.094929Z",
     "start_time": "2024-10-28T08:41:58.673298Z"
    }
   },
   "source": [
    "import torch\n",
    "\n",
    "# MPS for Apple machine \n",
    "device = (\n",
    "    \"mps\" if torch.backends.mps.is_available()\n",
    "    else \"cuda\" if torch.cuda.is_available()\n",
    "    else \"cpu\"\n",
    ")\n",
    "\n",
    "model_name = \"distilbert-base-uncased-finetuned-sst-2-english\"\n",
    "sentiment_classifier = pipeline(\n",
    "    \"sentiment-analysis\", \n",
    "    model=model_name,\n",
    "    device=device \n",
    ")\n",
    "\n",
    "def analyze_sentiment(text, classifier):\n",
    "    \"\"\"\n",
    "    Function to perform sentiment analysis on text\n",
    "    \"\"\"\n",
    "    result = classifier(text)[0]\n",
    "    # Return \"Positive\" if POSITIVE label and score > 0.5, else \"Negative\"\n",
    "    return \"Positive\" if result['label'] == 'POSITIVE' and result['score'] > 0.5 else \"Negative\"\n"
   ],
   "outputs": [],
   "execution_count": 17
  },
  {
   "cell_type": "code",
   "metadata": {
    "collapsed": false,
    "jupyter": {
     "outputs_hidden": false
    },
    "ExecuteTime": {
     "end_time": "2024-10-28T08:42:12.991789Z",
     "start_time": "2024-10-28T08:42:11.372980Z"
    }
   },
   "source": [
    "def clean_text(text):\n",
    "    \"\"\"Clean and validate text data\"\"\"\n",
    "    if pd.isna(text) or text == 'nan' or not isinstance(text, str):\n",
    "        return \"\"\n",
    "    return text.strip('\"')  # Remove quote marks that appear in reviews\n",
    "\n",
    "import os\n",
    "os.makedirs(\"result\", exist_ok=True)\n",
    "\n",
    "df['Review'] = df['Review'].apply(clean_text)\n",
    "df = df[df['Review'] != \"\"]\n",
    "\n",
    "df['Review Sentiment'] = df['Review'].apply(lambda x: analyze_sentiment(x, sentiment_classifier))\n",
    "\n",
    "df = df[['Title', 'Year', 'Synopsis', 'Review', 'Review Sentiment', 'Original Language']]\n",
    "\n",
    "df = df.head(30)\n",
    "\n",
    "if len(df) != 30:\n",
    "    print(f\"Warning: Expected 30 rows but got {len(df)} rows\")\n",
    "\n",
    "required_columns = ['Title', 'Year', 'Synopsis', 'Review', 'Review Sentiment', 'Original Language']\n",
    "missing_columns = [col for col in required_columns if col not in df.columns]\n",
    "if missing_columns:\n",
    "    print(f\"Warning: Missing required columns: {missing_columns}\")\n",
    "\n",
    "# Save to CSV\n",
    "df.to_csv(\"result/reviews_with_sentiment.csv\", index=False)"
   ],
   "outputs": [],
   "execution_count": 18
  },
  {
   "cell_type": "code",
   "metadata": {
    "collapsed": false,
    "jupyter": {
     "outputs_hidden": false
    },
    "ExecuteTime": {
     "end_time": "2024-10-28T08:42:17.531768Z",
     "start_time": "2024-10-28T08:42:17.524434Z"
    }
   },
   "source": "df.sample(10)",
   "outputs": [
    {
     "data": {
      "text/plain": [
       "                                  Title  Year  \\\n",
       "10                           La La Land  2016   \n",
       "6           Scott Pilgrim vs. the World  2010   \n",
       "20                                 Roma  2018   \n",
       "18            Les Visiteurs en Amérique  2000   \n",
       "16       La Tour Montparnasse Infernale  2001   \n",
       "7                         The Nice Guys  2016   \n",
       "11                         Intouchables  2011   \n",
       "13                        Les Choristes  2004   \n",
       "3                        The Godfather   1972   \n",
       "14  Le Fabuleux Destin d'Amélie Poulain  2001   \n",
       "\n",
       "                                             Synopsis  \\\n",
       "10  This musical tells the story of a budding actr...   \n",
       "6   Scott Pilgrim (Michael Cera) must defeat his n...   \n",
       "20  Cleo (Yalitza Aparicio) is a young domestic wo...   \n",
       "18  In this continuation of the French comedy The ...   \n",
       "16  Two incompetent office workers find themselves...   \n",
       "7   In 1970s Los Angeles, a private eye (Ryan Gosl...   \n",
       "11  This film tells the story of the unlikely frie...   \n",
       "13  This film tells the story of a music teacher w...   \n",
       "3   Don Vito Corleone (Marlon Brando) is the head ...   \n",
       "14  This romantic comedy tells the story of Amélie...   \n",
       "\n",
       "                                               Review Review Sentiment  \\\n",
       "10  The Land is an absolutely beautiful film with ...         Positive   \n",
       "6   It was difficult to sit through the whole thin...         Negative   \n",
       "20  Rome is a beautiful and moving film that pays ...         Positive   \n",
       "18  The film is a total waste of time. The jokes a...         Negative   \n",
       "16  I can't believe I've wasted time watching this...         Negative   \n",
       "7   The Nice Guys tries too hard to be funny, and ...         Negative   \n",
       "11  Untouchables is an incredibly touching film wi...         Positive   \n",
       "13  The Choristes are a beautiful film that will m...         Positive   \n",
       "3   The Godfather is a classic movie that stands t...         Positive   \n",
       "14  The Fabulous Destiny of Amélie Poulain is an a...         Positive   \n",
       "\n",
       "   Original Language  \n",
       "10                fr  \n",
       "6                 en  \n",
       "20                sp  \n",
       "18                fr  \n",
       "16                fr  \n",
       "7                 en  \n",
       "11                fr  \n",
       "13                fr  \n",
       "3                 en  \n",
       "14                fr  "
      ],
      "text/html": [
       "<div>\n",
       "<style scoped>\n",
       "    .dataframe tbody tr th:only-of-type {\n",
       "        vertical-align: middle;\n",
       "    }\n",
       "\n",
       "    .dataframe tbody tr th {\n",
       "        vertical-align: top;\n",
       "    }\n",
       "\n",
       "    .dataframe thead th {\n",
       "        text-align: right;\n",
       "    }\n",
       "</style>\n",
       "<table border=\"1\" class=\"dataframe\">\n",
       "  <thead>\n",
       "    <tr style=\"text-align: right;\">\n",
       "      <th></th>\n",
       "      <th>Title</th>\n",
       "      <th>Year</th>\n",
       "      <th>Synopsis</th>\n",
       "      <th>Review</th>\n",
       "      <th>Review Sentiment</th>\n",
       "      <th>Original Language</th>\n",
       "    </tr>\n",
       "  </thead>\n",
       "  <tbody>\n",
       "    <tr>\n",
       "      <th>10</th>\n",
       "      <td>La La Land</td>\n",
       "      <td>2016</td>\n",
       "      <td>This musical tells the story of a budding actr...</td>\n",
       "      <td>The Land is an absolutely beautiful film with ...</td>\n",
       "      <td>Positive</td>\n",
       "      <td>fr</td>\n",
       "    </tr>\n",
       "    <tr>\n",
       "      <th>6</th>\n",
       "      <td>Scott Pilgrim vs. the World</td>\n",
       "      <td>2010</td>\n",
       "      <td>Scott Pilgrim (Michael Cera) must defeat his n...</td>\n",
       "      <td>It was difficult to sit through the whole thin...</td>\n",
       "      <td>Negative</td>\n",
       "      <td>en</td>\n",
       "    </tr>\n",
       "    <tr>\n",
       "      <th>20</th>\n",
       "      <td>Roma</td>\n",
       "      <td>2018</td>\n",
       "      <td>Cleo (Yalitza Aparicio) is a young domestic wo...</td>\n",
       "      <td>Rome is a beautiful and moving film that pays ...</td>\n",
       "      <td>Positive</td>\n",
       "      <td>sp</td>\n",
       "    </tr>\n",
       "    <tr>\n",
       "      <th>18</th>\n",
       "      <td>Les Visiteurs en Amérique</td>\n",
       "      <td>2000</td>\n",
       "      <td>In this continuation of the French comedy The ...</td>\n",
       "      <td>The film is a total waste of time. The jokes a...</td>\n",
       "      <td>Negative</td>\n",
       "      <td>fr</td>\n",
       "    </tr>\n",
       "    <tr>\n",
       "      <th>16</th>\n",
       "      <td>La Tour Montparnasse Infernale</td>\n",
       "      <td>2001</td>\n",
       "      <td>Two incompetent office workers find themselves...</td>\n",
       "      <td>I can't believe I've wasted time watching this...</td>\n",
       "      <td>Negative</td>\n",
       "      <td>fr</td>\n",
       "    </tr>\n",
       "    <tr>\n",
       "      <th>7</th>\n",
       "      <td>The Nice Guys</td>\n",
       "      <td>2016</td>\n",
       "      <td>In 1970s Los Angeles, a private eye (Ryan Gosl...</td>\n",
       "      <td>The Nice Guys tries too hard to be funny, and ...</td>\n",
       "      <td>Negative</td>\n",
       "      <td>en</td>\n",
       "    </tr>\n",
       "    <tr>\n",
       "      <th>11</th>\n",
       "      <td>Intouchables</td>\n",
       "      <td>2011</td>\n",
       "      <td>This film tells the story of the unlikely frie...</td>\n",
       "      <td>Untouchables is an incredibly touching film wi...</td>\n",
       "      <td>Positive</td>\n",
       "      <td>fr</td>\n",
       "    </tr>\n",
       "    <tr>\n",
       "      <th>13</th>\n",
       "      <td>Les Choristes</td>\n",
       "      <td>2004</td>\n",
       "      <td>This film tells the story of a music teacher w...</td>\n",
       "      <td>The Choristes are a beautiful film that will m...</td>\n",
       "      <td>Positive</td>\n",
       "      <td>fr</td>\n",
       "    </tr>\n",
       "    <tr>\n",
       "      <th>3</th>\n",
       "      <td>The Godfather</td>\n",
       "      <td>1972</td>\n",
       "      <td>Don Vito Corleone (Marlon Brando) is the head ...</td>\n",
       "      <td>The Godfather is a classic movie that stands t...</td>\n",
       "      <td>Positive</td>\n",
       "      <td>en</td>\n",
       "    </tr>\n",
       "    <tr>\n",
       "      <th>14</th>\n",
       "      <td>Le Fabuleux Destin d'Amélie Poulain</td>\n",
       "      <td>2001</td>\n",
       "      <td>This romantic comedy tells the story of Amélie...</td>\n",
       "      <td>The Fabulous Destiny of Amélie Poulain is an a...</td>\n",
       "      <td>Positive</td>\n",
       "      <td>fr</td>\n",
       "    </tr>\n",
       "  </tbody>\n",
       "</table>\n",
       "</div>"
      ]
     },
     "execution_count": 19,
     "metadata": {},
     "output_type": "execute_result"
    }
   ],
   "execution_count": 19
  },
  {
   "cell_type": "code",
   "metadata": {
    "collapsed": false,
    "jupyter": {
     "outputs_hidden": false
    },
    "ExecuteTime": {
     "end_time": "2024-10-28T08:43:40.278251Z",
     "start_time": "2024-10-28T08:43:40.274842Z"
    }
   },
   "source": "df.to_csv(\"result/reviews_with_sentiment.csv\", index=False)",
   "outputs": [],
   "execution_count": 21
  }
 ],
 "metadata": {
  "kernelspec": {
   "display_name": "Python (rnn)",
   "language": "python",
   "name": "rnn"
  },
  "language_info": {
   "codemirror_mode": {
    "name": "ipython",
    "version": 3
   },
   "file_extension": ".py",
   "mimetype": "text/x-python",
   "name": "python",
   "nbconvert_exporter": "python",
   "pygments_lexer": "ipython3",
   "version": "3.10.15"
  }
 },
 "nbformat": 4,
 "nbformat_minor": 4
}
